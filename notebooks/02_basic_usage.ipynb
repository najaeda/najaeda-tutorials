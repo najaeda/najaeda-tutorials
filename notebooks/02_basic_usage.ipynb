{
 "cells": [
  {
   "cell_type": "markdown",
   "id": "fd0ffa1a",
   "metadata": {},
   "source": [
    "🔗 [Back to Table of Contents](https://github.com/najaeda/najaeda-tutorials#-table-of-contents)\n",
    "# Chapter 2: Basic Usage: Loading Liberty and Verilog\n",
    "## Loading Primitives with Liberty"
   ]
  },
  {
   "cell_type": "code",
   "execution_count": 4,
   "id": "13041d84",
   "metadata": {
    "vscode": {
     "languageId": "markdown"
    }
   },
   "outputs": [],
   "source": [
    "liberty_files = [\n",
    "    '../benchmarks/liberty/fakeram45_64x32.lib',\n",
    "    '../benchmarks/liberty/fakeram45_1024x32.lib',\n",
    "    '../benchmarks/liberty/NangateOpenCellLibrary_typical.lib']\n",
    "netlist.load_liberty(liberty_files)"
   ]
  },
  {
   "cell_type": "markdown",
   "id": "cd07e752",
   "metadata": {},
   "source": [
    "## Load a verilog design\n",
    "You can now load a gate level netlist using the loaded library."
   ]
  },
  {
   "cell_type": "code",
   "execution_count": 5,
   "id": "526e4b7b",
   "metadata": {
    "vscode": {
     "languageId": "markdown"
    }
   },
   "outputs": [],
   "source": [
    "top = netlist.load_verilog(['../benchmarks/verilog/tinyrocket.v'])"
   ]
  },
  {
   "cell_type": "markdown",
   "id": "56baf523",
   "metadata": {},
   "source": [
    "## Explore the design\n",
    "We can now browse through the design."
   ]
  },
  {
   "cell_type": "code",
   "execution_count": 8,
   "id": "a04729b0",
   "metadata": {
    "vscode": {
     "languageId": "markdown"
    }
   },
   "outputs": [
    {
     "name": "stdout",
     "output_type": "stream",
     "text": [
      "RocketTile\n",
      "RocketTile number of input terms: 25\n",
      "RocketTile number of output terms: 20\n"
     ]
    }
   ],
   "source": [
    "print(top)\n",
    "print(f'{top} number of input terms: {top.count_input_terms()}')\n",
    "print(f'{top} number of output terms: {top.count_output_terms()}')"
   ]
  }
 ],
 "metadata": {
  "kernelspec": {
   "display_name": ".venv",
   "language": "python",
   "name": "python3"
  },
  "language_info": {
   "codemirror_mode": {
    "name": "ipython",
    "version": 3
   },
   "file_extension": ".py",
   "mimetype": "text/x-python",
   "name": "python",
   "nbconvert_exporter": "python",
   "pygments_lexer": "ipython3",
   "version": "3.13.5"
  }
 },
 "nbformat": 4,
 "nbformat_minor": 5
}
