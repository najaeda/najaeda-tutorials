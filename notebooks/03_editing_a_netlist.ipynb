{
 "cells": [
  {
   "cell_type": "markdown",
   "id": "f3b1bb79",
   "metadata": {},
   "source": [
    "🔗 [Back to Table of Contents](https://github.com/najaeda/najaeda-tutorials#-table-of-contents)\n",
    "\n",
    "# Chapter 3: Editing a Netlist\n",
    "\n",
    "In this chapter, we'll revisit the small full adder design from Chapter 1 and explore how to modify it using `najaeda`'s editing API.\n",
    "\n",
    "As a reminder, here's the schematic of the full adder:\n",
    "\n",
    "![FullAdder](https://raw.githubusercontent.com/najaeda/najaeda-tutorials/main/images/fulladder.png)\n",
    "\n",
    "Let’s begin by setting up the environment — we’ll install **najaeda** and write the design to a local file so we can edit it."
   ]
  },
  {
   "cell_type": "code",
   "execution_count": 4,
   "id": "7deac312",
   "metadata": {
    "vscode": {
     "languageId": "shellscript"
    }
   },
   "outputs": [
    {
     "name": "stdout",
     "output_type": "stream",
     "text": [
      "Requirement already satisfied: najaeda in /Users/xtof/WORK/najaeda-tutorials/.venv/lib/python3.13/site-packages (0.2.2)\n"
     ]
    }
   ],
   "source": [
    "!pip install najaeda"
   ]
  },
  {
   "cell_type": "code",
   "execution_count": 5,
   "id": "baf21944",
   "metadata": {
    "vscode": {
     "languageId": "shellscript"
    }
   },
   "outputs": [
    {
     "name": "stdout",
     "output_type": "stream",
     "text": [
      "Writing fulladder.v\n"
     ]
    }
   ],
   "source": [
    "%%writefile fulladder.v\n",
    "module halfadder(\n",
    "    input a,\n",
    "    input b,\n",
    "    output sum,\n",
    "    output carry\n",
    ");\n",
    "    and carry_and(carry, a, b);\n",
    "    xor sum_xor(sum, a, b);\n",
    "endmodule\n",
    "\n",
    "module fulladder(\n",
    "    input a,\n",
    "    input b,\n",
    "    input cin,\n",
    "    output sum,\n",
    "    output cout\n",
    ");\n",
    "    wire sum1, carry1, carry2;\n",
    "    halfadder ha1(\n",
    "        .a(a),\n",
    "        .b(b),\n",
    "        .sum(sum1),\n",
    "        .carry(carry1)\n",
    "    );\n",
    "    halfadder ha2(\n",
    "        .a(sum1),\n",
    "        .b(cin),\n",
    "        .sum(sum),\n",
    "        .carry(carry2)\n",
    "    );\n",
    "    or cout_or(cout, carry1, carry2);\n",
    "endmodule"
   ]
  },
  {
   "cell_type": "markdown",
   "id": "5945477b",
   "metadata": {},
   "source": [
    "We’ll begin by importing the `najaeda` library and loading the full adder netlist for editing."
   ]
  },
  {
   "cell_type": "code",
   "execution_count": 8,
   "id": "4ce25769",
   "metadata": {},
   "outputs": [
    {
     "name": "stdout",
     "output_type": "stream",
     "text": [
      "Design name: fulladder loaded\n"
     ]
    }
   ],
   "source": [
    "from najaeda import netlist\n",
    "top = netlist.load_verilog('fulladder.v')\n",
    "print(f\"Design name: {top.get_name()} loaded\")"
   ]
  },
  {
   "cell_type": "markdown",
   "id": "1af01e9d",
   "metadata": {},
   "source": [
    "## Editing the netlist\n",
    "\n",
    "Let"
   ]
  },
  {
   "cell_type": "code",
   "execution_count": null,
   "id": "6b860e48",
   "metadata": {},
   "outputs": [],
   "source": [
    "ha1 = top.get_child_instance('ha1')\n",
    "print(f\"Instance name: {ha1.get_name()} with model: {ha1.get_model_name()}\")\n",
    "ha1.set_name('halfadder1')"
   ]
  }
 ],
 "metadata": {
  "kernelspec": {
   "display_name": ".venv",
   "language": "python",
   "name": "python3"
  },
  "language_info": {
   "codemirror_mode": {
    "name": "ipython",
    "version": 3
   },
   "file_extension": ".py",
   "mimetype": "text/x-python",
   "name": "python",
   "nbconvert_exporter": "python",
   "pygments_lexer": "ipython3",
   "version": "3.13.5"
  }
 },
 "nbformat": 4,
 "nbformat_minor": 5
}
