{
 "cells": [
  {
   "cell_type": "markdown",
   "id": "f3b1bb79",
   "metadata": {},
   "source": [
    "🔗 [Back to Table of Contents](https://github.com/najaeda/najaeda-tutorials#-table-of-contents)\n",
    "# Chapter 3: Editing a netlist\n",
    "In this chapter, we will reuse the small fulladder design that we used in Chapter 1 and we will explore the editing API in najaeda.\n",
    "\n",
    "As a reminder, this is the schematic of the design:\n",
    "\n",
    "![FullAdder](https://raw.githubusercontent.com/najaeda/najaeda-tutorials/main/images/fulladder.png)\n",
    "\n",
    "Let's setup the environment to get started (install **najaeda** and write the design locally)."
   ]
  },
  {
   "cell_type": "code",
   "execution_count": null,
   "id": "baf21944",
   "metadata": {
    "vscode": {
     "languageId": "shellscript"
    }
   },
   "outputs": [
    {
     "ename": "",
     "evalue": "",
     "output_type": "error",
     "traceback": [
      "\u001b[1;31mRunning cells with 'Python 3.12.11' requires the ipykernel package.\n",
      "\u001b[1;31mInstall 'ipykernel' into the Python environment. \n",
      "\u001b[1;31mCommand: '/opt/homebrew/bin/python3.12 -m pip install ipykernel -U --user --force-reinstall'"
     ]
    }
   ],
   "source": [
    "pip install najaeda\n",
    "%%writefile fulladder.v\n",
    "module halfadder(\n",
    "    input a,\n",
    "    input b,\n",
    "    output sum,\n",
    "    output carry\n",
    ");\n",
    "    and carry_and(carry, a, b);\n",
    "    xor sum_xor(sum, a, b);\n",
    "endmodule\n",
    "\n",
    "module fulladder(\n",
    "    input a,\n",
    "    input b,\n",
    "    input cin,\n",
    "    output sum,\n",
    "    output cout\n",
    ");\n",
    "    wire sum1, carry1, carry2;\n",
    "    halfadder ha1(\n",
    "        .a(a),\n",
    "        .b(b),\n",
    "        .sum(sum1),\n",
    "        .carry(carry1)\n",
    "    );\n",
    "    halfadder ha2(\n",
    "        .a(sum1),\n",
    "        .b(cin),\n",
    "        .sum(sum),\n",
    "        .carry(carry2)\n",
    "    );\n",
    "    or cout_or(cout, carry1, carry2);\n",
    "endmodule"
   ]
  }
 ],
 "metadata": {
  "kernelspec": {
   "display_name": "Python 3",
   "language": "python",
   "name": "python3"
  },
  "language_info": {
   "name": "python",
   "version": "3.12.11"
  }
 },
 "nbformat": 4,
 "nbformat_minor": 5
}
