{
 "cells": [
  {
   "cell_type": "markdown",
   "id": "9cd984fd",
   "metadata": {},
   "source": [
    "🔗 [Back to Table of Contents](https://github.com/najaeda/najaeda-tutorials#-table-of-contents)\n",
    "# Chapter 2: Opening a Design with Primitives Described in Liberty Format\n",
    "\n",
    "In this chapter, we’ll explore how to work with a [design](https://github.com/chipsalliance/rocket-chip) generated using the **Rocket Chip** generator.\n",
    "\n",
    "While detailed information about the design can be found in [this technical report](https://www2.eecs.berkeley.edu/Pubs/TechRpts/2016/EECS-2016-17.html), our goal here is not to study its functionality.  \n",
    "Instead, we’ll focus on how to load a synthesized design that makes use of a standard-cell library defined in the **Liberty format**.\n",
    "\n",
    "The **Liberty format** is an industry-standard way to describe the behavior, timing, and characteristics of library cells in a specific technology node.\n",
    "\n",
    "For this tutorial, we’ll use the open-source [Nangate](https://github.com/oscc-ip/nangate) library as our standard-cell library.\n",
    "\n",
    "---\n",
    "\n",
    "Let's begin by setting up the environment."
   ]
  },
  {
   "cell_type": "code",
   "execution_count": null,
   "id": "0923f0ec",
   "metadata": {
    "vscode": {
     "languageId": "shellscript"
    }
   },
   "outputs": [],
   "source": [
    "!wget https://github.com/najaeda/najaeda-tutorials/archive/refs/heads/main.zip\n",
    "!unzip main.zip\n",
    "!mv najaeda-tutorials-main/benchmarks/verilog/tinyrocket/tinyrocket.v tinyrocket.v\n",
    "!mv najaeda-tutorials-main/benchmarks/liberty liberty\n",
    "!pip install najaeda"
   ]
  },
  {
   "cell_type": "markdown",
   "id": "4e9f7ed3",
   "metadata": {},
   "source": [
    "## Loading the liberty library and the design\n",
    "\n",
    "After importing **najaeda** package, we construct a list of the needed **liberty** files, we load them and then we load the verilog design. "
   ]
  },
  {
   "cell_type": "code",
   "execution_count": null,
   "id": "e391558f",
   "metadata": {},
   "outputs": [],
   "source": [
    "from najaeda import netlist\n",
    "\n",
    "# Load the liberty library elements and the design\n",
    "liberty_files = [\n",
    "    'liberty/NangateOpenCellLibrary_typical.lib',\n",
    "    'liberty/fakeram45_64x32.lib'\n",
    "]\n",
    "netlist.load_liberty(liberty_files)\n",
    "top = netlist.load_verilog('tinyrocket.v')\n",
    "print(f\"Design {top.get_name()} loaded\")"
   ]
  },
  {
   "cell_type": "markdown",
   "id": "0c48a814",
   "metadata": {},
   "source": [
    "## Exploring the Design: More Advanced Methods\n",
    "\n",
    "Now that the design is loaded, we can begin writing some utility functions to explore it in more depth."
   ]
  },
  {
   "cell_type": "code",
   "execution_count": null,
   "id": "29fe9f7d",
   "metadata": {},
   "outputs": [],
   "source": [
    "def explore_design(instance):\n",
    "    print(f\"{instance.get_name()} with model: {instance.get_model_name()}\")\n",
    "    for ins in instance.get_child_instances():\n",
    "        explore_design(ins)\n",
    "\n",
    "explore_design(top)"
   ]
  },
  {
   "cell_type": "markdown",
   "id": "0ab26e64",
   "metadata": {},
   "source": [
    "An alternative way to perform this exploration is by using the `instance_visitor` class, which offers similar functionality and flexibility."
   ]
  },
  {
   "cell_type": "code",
   "execution_count": null,
   "id": "7c54ba30",
   "metadata": {},
   "outputs": [],
   "source": [
    "from najaeda import instance_visitor\n",
    "\n",
    "def print_instance(instance):\n",
    "    print(f\"{instance.get_name()} with model: {instance.get_model_name()}\")\n",
    "\n",
    "visitor_config = instance_visitor.VisitorConfig(callback=print_instance)\n",
    "instance_visitor.visit(top, visitor_config)"
   ]
  },
  {
   "cell_type": "markdown",
   "id": "1febda15",
   "metadata": {},
   "source": [
    "We can modify the `print_instance` method to print only non-primitive instances, effectively showing only the user-defined hierarchy."
   ]
  },
  {
   "cell_type": "code",
   "execution_count": null,
   "id": "287bce69",
   "metadata": {},
   "outputs": [],
   "source": [
    "def print_non_primitive(instance):\n",
    "    if not instance.is_primitive():\n",
    "        print(f\"{instance} with model: {instance.get_model_name()}\")\n",
    "\n",
    "visitor_config = instance_visitor.VisitorConfig(callback=print_non_primitive)\n",
    "instance_visitor.visit(top, visitor_config)"
   ]
  },
  {
   "cell_type": "markdown",
   "id": "6dc202f2",
   "metadata": {},
   "source": [
    "It's also possible to pass additional arguments to the callback function used with the `instance_visitor` class.\n",
    "\n",
    "As an example, let's implement a function that counts all primitive and non primitive instances across the entire design.  \n",
    "To do this, we'll use a Python dictionary to pass a mutable counter to the callback."
   ]
  },
  {
   "cell_type": "code",
   "execution_count": null,
   "id": "7f19e7e8",
   "metadata": {},
   "outputs": [],
   "source": [
    "stats = {\"primitives\": 0, \"non_primitives\": 0}\n",
    "def count_instances(instance, stats):\n",
    "    if instance.is_primitive():\n",
    "        stats[\"primitives\"] += 1\n",
    "    else:\n",
    "        stats[\"non_primitives\"] += 1\n",
    "\n",
    "visitor_config = instance_visitor.VisitorConfig(callback=count_instances, args=(stats,))\n",
    "instance_visitor.visit(top, visitor_config)\n",
    "print(f\"In design {top.get_name()}:\")\n",
    "print(f\"Total number of primitive instances: {stats['primitives']}\")\n",
    "print(f\"Total number of non-primitive instances: {stats['non_primitives']}\")"
   ]
  },
  {
   "cell_type": "markdown",
   "id": "0d5d6e44",
   "metadata": {},
   "source": [
    "## Extracting Statistics and Using Pandas\n",
    "\n",
    "With `najaeda`, it’s straightforward to extract design data and prepare it for analysis in popular frameworks such as [pandas](https://pandas.pydata.org/).\n",
    "\n",
    "In fact, `najaeda` already includes built-in methods to generate this data in a format that’s ready for use.\n",
    "\n",
    "As an example, let’s export statistics for each instance under `top` in `JSON` format."
   ]
  },
  {
   "cell_type": "code",
   "execution_count": null,
   "id": "d446cf67",
   "metadata": {},
   "outputs": [],
   "source": [
    "from najaeda import stats\n",
    "\n",
    "with open('top_stats.json', \"w\") as f:\n",
    "  stats.dump_instance_stats_json(top, f)"
   ]
  },
  {
   "cell_type": "markdown",
   "id": "bee599e8",
   "metadata": {},
   "source": [
    "Next, we’ll load the file into `Pandas` and display its contents."
   ]
  },
  {
   "cell_type": "code",
   "execution_count": null,
   "id": "3651e659",
   "metadata": {},
   "outputs": [],
   "source": [
    "import pandas as pd\n",
    "\n",
    "df = pd.read_json('top_stats.json')\n",
    "pandas_data = pd.DataFrame(df.set_index(\"Name\"))\n",
    "plot = pandas_data.plot.bar(y=[\"terms\", \"nets\", \"instances\"], stacked=True)\n",
    "\n",
    "# Customize plot\n",
    "plot.set_title(\"Design Statistics\", fontsize=16, fontweight=\"bold\")\n",
    "plot.set_xlabel(\"Design Name\", fontsize=12)\n",
    "plot.set_ylabel(\"Count\", fontsize=12)\n",
    "\n",
    "plot_figure = plot.get_figure()\n",
    "plot_figure.tight_layout()\n",
    "plot_figure.savefig('design_stats.png')"
   ]
  }
 ],
 "metadata": {
  "kernelspec": {
   "display_name": ".venv",
   "language": "python",
   "name": "python3"
  },
  "language_info": {
   "codemirror_mode": {
    "name": "ipython",
    "version": 3
   },
   "file_extension": ".py",
   "mimetype": "text/x-python",
   "name": "python",
   "nbconvert_exporter": "python",
   "pygments_lexer": "ipython3",
   "version": "3.13.5"
  }
 },
 "nbformat": 4,
 "nbformat_minor": 5
}
