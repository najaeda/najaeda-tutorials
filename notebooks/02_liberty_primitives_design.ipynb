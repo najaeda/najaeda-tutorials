{
 "cells": [
  {
   "cell_type": "markdown",
   "id": "9cd984fd",
   "metadata": {},
   "source": [
    "🔗 [Back to Table of Contents](https://github.com/najaeda/najaeda-tutorials#-table-of-contents)\n",
    "# Chapter 2: Opening a design with primitives described in Liberty format\n"
   ]
  },
  {
   "cell_type": "code",
   "execution_count": null,
   "id": "ce20d3dd",
   "metadata": {
    "vscode": {
     "languageId": "shellscript"
    }
   },
   "outputs": [],
   "source": [
    "wget https://raw.githubusercontent.com/najaeda/najaeda-tutorials/main/data/benchmarks/verilog/tinyrocket -O tinyrocket\n",
    "wget https://raw.githubusercontent.com/najaeda/najaeda-tutorials/main/data/benchmarks/liberty -O liberty"
   ]
  },
  {
   "cell_type": "markdown",
   "id": "f4276aa5",
   "metadata": {},
   "source": []
  }
 ],
 "metadata": {
  "language_info": {
   "name": "python"
  }
 },
 "nbformat": 4,
 "nbformat_minor": 5
}
