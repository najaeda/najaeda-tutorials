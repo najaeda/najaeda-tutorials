{
 "cells": [
  {
   "cell_type": "markdown",
   "id": "852b83e7",
   "metadata": {},
   "source": [
    "🔗 [Back to Table of Contents](https://github.com/najaeda/najaeda-tutorials#-table-of-contents)\n",
    "# Chapter 1: Getting Started with najaeda\n",
    "\n",
    "Welcome to **najaeda**! This guide will help you quickly install and start using the `najaeda` Python package.\n",
    "\n",
    "If you encounter any issues or have suggestions for improvements, please open an issue in our [GitHub issue tracker](https://github.com/najaeda/naja/issues).\n",
    "\n",
    "If you find this project helpful, consider supporting us by [⭐️ starring the repository](https://github.com/najaeda/naja).\n",
    "\n",
    "For inquiries or direct contact, feel free to reach out to us at [contact@keplertech.io](mailto:contact@keplertech.io).\n",
    "\n",
    "## Introduction\n",
    "\n",
    "**najaeda** is a powerful yet lightweight framework that empowers both software and hardware developers to efficiently explore, manipulate, and prototype electronic design automation (EDA) workflows.\n",
    "\n",
    "Designed with flexibility and usability in mind, `najaeda` enables you to:\n",
    "\n",
    "### Explore Netlists with Ease\n",
    "\n",
    "- Intuitively navigate complex netlist hierarchies and connectivity.\n",
    "- Inspect your design at various levels of abstraction:\n",
    "  - Bit-level and bus-level granularity.\n",
    "  - Instance-by-instance views or fully flattened representations down to primitives.\n",
    "  - Focused per-instance connectivity or holistic equipotential (net-driven) views.\n",
    "\n",
    "### Perform ECO (Engineering Change Order) Transformations\n",
    "\n",
    "- Apply and manage design modifications smoothly.\n",
    "- Accelerate the integration of late-stage design changes with confidence and control.\n",
    "\n",
    "### Prototype EDA Concepts Rapidly\n",
    "\n",
    "- Leverage an intuitive and expressive Python API.\n",
    "- Experiment with new ideas, workflows, or data models in minutes, not days.\n",
    "\n",
    "### Build Custom EDA Tools\n",
    "\n",
    "- Develop high-performance, task-specific tools without depending on expensive, proprietary EDA suites.\n",
    "- Solve domain-specific challenges with code that’s lean, readable, and maintainable.\n",
    "\n",
    "## Installation\n",
    "\n",
    "First, let's get the needed files for this tutorial repository to access the tutorials files."
   ]
  },
  {
   "cell_type": "code",
   "execution_count": 10,
   "id": "d365a799",
   "metadata": {
    "vscode": {
     "languageId": "markdown"
    }
   },
   "outputs": [
    {
     "name": "stdout",
     "output_type": "stream",
     "text": [
      "fatal : le chemin de destination 'najaeda-tutorials' existe déjà et n'est pas un répertoire vide.\n"
     ]
    }
   ],
   "source": [
    "!git clone https://github.com/najaeda/najaeda-tutorials.git"
   ]
  },
  {
   "cell_type": "markdown",
   "id": "3ee3cefc",
   "metadata": {},
   "source": [
    "To install `najaeda`, simply use pip:"
   ]
  },
  {
   "cell_type": "code",
   "execution_count": 11,
   "id": "90fee49d",
   "metadata": {
    "vscode": {
     "languageId": "markdown"
    }
   },
   "outputs": [
    {
     "name": "stdout",
     "output_type": "stream",
     "text": [
      "zsh:1: no such file or directory: /Users/xtof/WORK/najaeda-tutorials/.venv/bin/python\n",
      "Note: you may need to restart the kernel to use updated packages.\n"
     ]
    }
   ],
   "source": [
    "pip install najaeda"
   ]
  },
  {
   "cell_type": "markdown",
   "id": "8cfc3c77",
   "metadata": {},
   "source": [
    "## Import najaeda\n",
    "Now we will import najaeda needed package:"
   ]
  },
  {
   "cell_type": "code",
   "execution_count": 8,
   "id": "6ccf18e0",
   "metadata": {
    "vscode": {
     "languageId": "markdown"
    }
   },
   "outputs": [
    {
     "ename": "ModuleNotFoundError",
     "evalue": "No module named 'najaeda'",
     "output_type": "error",
     "traceback": [
      "\u001b[31m---------------------------------------------------------------------------\u001b[39m",
      "\u001b[31mModuleNotFoundError\u001b[39m                       Traceback (most recent call last)",
      "\u001b[36mCell\u001b[39m\u001b[36m \u001b[39m\u001b[32mIn[8]\u001b[39m\u001b[32m, line 1\u001b[39m\n\u001b[32m----> \u001b[39m\u001b[32m1\u001b[39m \u001b[38;5;28;01mfrom\u001b[39;00m\u001b[38;5;250m \u001b[39m\u001b[34;01mnajaeda\u001b[39;00m\u001b[38;5;250m \u001b[39m\u001b[38;5;28;01mimport\u001b[39;00m netlist\n",
      "\u001b[31mModuleNotFoundError\u001b[39m: No module named 'najaeda'"
     ]
    }
   ],
   "source": [
    "from najaeda import netlist"
   ]
  },
  {
   "cell_type": "markdown",
   "id": "60a45674",
   "metadata": {},
   "source": [
    "## Load a verilog design\n",
    "You can now load a gate level netlist using the loaded library."
   ]
  },
  {
   "cell_type": "code",
   "execution_count": 7,
   "id": "aff45387",
   "metadata": {
    "vscode": {
     "languageId": "markdown"
    }
   },
   "outputs": [
    {
     "ename": "NameError",
     "evalue": "name 'netlist' is not defined",
     "output_type": "error",
     "traceback": [
      "\u001b[31m---------------------------------------------------------------------------\u001b[39m",
      "\u001b[31mNameError\u001b[39m                                 Traceback (most recent call last)",
      "\u001b[36mCell\u001b[39m\u001b[36m \u001b[39m\u001b[32mIn[7]\u001b[39m\u001b[32m, line 1\u001b[39m\n\u001b[32m----> \u001b[39m\u001b[32m1\u001b[39m top = \u001b[43mnetlist\u001b[49m.load_verilog([\u001b[33m'\u001b[39m\u001b[33mnajaeda-tutorials/benchmarks/verilog/adder/fulladder.v\u001b[39m\u001b[33m'\u001b[39m])\n",
      "\u001b[31mNameError\u001b[39m: name 'netlist' is not defined"
     ]
    }
   ],
   "source": [
    "top = netlist.load_verilog(['najaeda-tutorials/benchmarks/verilog/adder/fulladder.v'])"
   ]
  },
  {
   "cell_type": "markdown",
   "id": "6127d31a",
   "metadata": {},
   "source": [
    "## Explore the design\n",
    "We can now browse through the design."
   ]
  },
  {
   "cell_type": "code",
   "execution_count": null,
   "id": "2f05d4ac",
   "metadata": {
    "vscode": {
     "languageId": "markdown"
    }
   },
   "outputs": [],
   "source": [
    "print(top)\n",
    "print(f'{top} number of input terms: {top.count_input_terms()}')\n",
    "print(f'{top} number of output terms: {top.count_output_terms()}')"
   ]
  }
 ],
 "metadata": {
  "kernelspec": {
   "display_name": ".venv",
   "language": "python",
   "name": "python3"
  },
  "language_info": {
   "codemirror_mode": {
    "name": "ipython",
    "version": 3
   },
   "file_extension": ".py",
   "mimetype": "text/x-python",
   "name": "python",
   "nbconvert_exporter": "python",
   "pygments_lexer": "ipython3",
   "version": "3.13.5"
  }
 },
 "nbformat": 4,
 "nbformat_minor": 5
}
