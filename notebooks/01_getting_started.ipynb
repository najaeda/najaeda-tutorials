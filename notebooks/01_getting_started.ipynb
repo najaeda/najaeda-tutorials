{
 "cells": [
  {
   "cell_type": "markdown",
   "id": "852b83e7",
   "metadata": {},
   "source": [
    "🔗 [Back to Table of Contents](https://github.com/najaeda/najaeda-tutorials#-table-of-contents)\n",
    "# Chapter 1: Getting Started with najaeda\n",
    "\n",
    "Welcome to **najaeda**! This guide will help you quickly install and start using the `najaeda` Python package.\n",
    "\n",
    "## Installation\n",
    "\n"
   ]
  },
  {
   "cell_type": "markdown",
   "id": "82ee3665",
   "metadata": {},
   "source": [
    "First, let's clone najaeda-tutorials repository to access the tutorials files."
   ]
  },
  {
   "cell_type": "code",
   "execution_count": 1,
   "id": "d365a799",
   "metadata": {
    "vscode": {
     "languageId": "markdown"
    }
   },
   "outputs": [
    {
     "name": "stdout",
     "output_type": "stream",
     "text": [
      "Clonage dans 'najaeda-tutorials'...\n",
      "remote: Enumerating objects: 17, done.\u001b[K\n",
      "remote: Counting objects: 100% (17/17), done.\u001b[K\n",
      "remote: Compressing objects: 100% (14/14), done.\u001b[K\n",
      "remote: Total 17 (delta 1), reused 13 (delta 1), pack-reused 0 (from 0)\u001b[K\n",
      "Réception d'objets: 100% (17/17), 1.86 Mio | 1.10 Mio/s, fait.\n",
      "Résolution des deltas: 100% (1/1), fait.\n"
     ]
    }
   ],
   "source": [
    "!git clone https://github.com/najaeda/najaeda-tutorials.git"
   ]
  },
  {
   "cell_type": "markdown",
   "id": "3ee3cefc",
   "metadata": {},
   "source": [
    "To install `najaeda`, simply use pip:"
   ]
  },
  {
   "cell_type": "code",
   "execution_count": 2,
   "id": "90fee49d",
   "metadata": {
    "vscode": {
     "languageId": "markdown"
    }
   },
   "outputs": [
    {
     "name": "stdout",
     "output_type": "stream",
     "text": [
      "Requirement already satisfied: najaeda in /Users/xtof/WORK/najaeda-tutorials/.venv/lib/python3.13/site-packages (0.1.21)\n",
      "Note: you may need to restart the kernel to use updated packages.\n"
     ]
    }
   ],
   "source": [
    "pip install najaeda"
   ]
  },
  {
   "cell_type": "markdown",
   "id": "8cfc3c77",
   "metadata": {},
   "source": [
    "## Import najaeda\n",
    "Now we will import najaeda needed package:"
   ]
  },
  {
   "cell_type": "code",
   "execution_count": 3,
   "id": "6ccf18e0",
   "metadata": {
    "vscode": {
     "languageId": "markdown"
    }
   },
   "outputs": [],
   "source": [
    "from najaeda import netlist"
   ]
  },
  {
   "cell_type": "markdown",
   "id": "7670b3dc",
   "metadata": {},
   "source": [
    "---\n",
    "✅ [Next Chapter → Basic Usage](https://colab.research.google.com/github/najaeda/najaeda-tutorials/blob/main/notebooks/02_basic_usage.ipynb)"
   ]
  }
 ],
 "metadata": {
  "kernelspec": {
   "display_name": ".venv",
   "language": "python",
   "name": "python3"
  },
  "language_info": {
   "codemirror_mode": {
    "name": "ipython",
    "version": 3
   },
   "file_extension": ".py",
   "mimetype": "text/x-python",
   "name": "python",
   "nbconvert_exporter": "python",
   "pygments_lexer": "ipython3",
   "version": "3.13.5"
  }
 },
 "nbformat": 4,
 "nbformat_minor": 5
}
