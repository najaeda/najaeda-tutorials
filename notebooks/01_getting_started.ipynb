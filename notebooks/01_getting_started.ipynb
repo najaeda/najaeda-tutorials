{
 "cells": [
  {
   "cell_type": "markdown",
   "id": "852b83e7",
   "metadata": {},
   "source": [
    "🔗 [Back to Table of Contents](https://github.com/najaeda/najaeda-tutorials#-table-of-contents)\n",
    "# Chapter 1: Getting Started with najaeda\n",
    "\n",
    "Welcome to **najaeda**! This guide will help you quickly install and start using the `najaeda` Python package.\n",
    "\n",
    "## Installation\n",
    "\n"
   ]
  },
  {
   "cell_type": "markdown",
   "id": "82ee3665",
   "metadata": {},
   "source": [
    "First, let's clone najaeda-tutorials repository to access the tutorials files."
   ]
  },
  {
   "cell_type": "code",
   "execution_count": null,
   "id": "d365a799",
   "metadata": {
    "vscode": {
     "languageId": "markdown"
    }
   },
   "outputs": [],
   "source": [
    "!git clone https://github.com/najaeda/najaeda-tutorials.git"
   ]
  },
  {
   "cell_type": "markdown",
   "id": "3ee3cefc",
   "metadata": {},
   "source": [
    "To install `najaeda`, simply use pip:"
   ]
  },
  {
   "cell_type": "code",
   "execution_count": 2,
   "id": "90fee49d",
   "metadata": {
    "vscode": {
     "languageId": "markdown"
    }
   },
   "outputs": [
    {
     "name": "stdout",
     "output_type": "stream",
     "text": [
      "Requirement already satisfied: najaeda in /Users/xtof/WORK/najaeda-tutorials/.venv/lib/python3.13/site-packages (0.1.21)\n",
      "Note: you may need to restart the kernel to use updated packages.\n"
     ]
    }
   ],
   "source": [
    "pip install najaeda"
   ]
  },
  {
   "cell_type": "markdown",
   "id": "8cfc3c77",
   "metadata": {},
   "source": [
    "## Import najaeda\n",
    "Now we will import najaeda needed package:"
   ]
  },
  {
   "cell_type": "code",
   "execution_count": 3,
   "id": "6ccf18e0",
   "metadata": {
    "vscode": {
     "languageId": "markdown"
    }
   },
   "outputs": [],
   "source": [
    "from najaeda import netlist"
   ]
  },
  {
   "cell_type": "markdown",
   "id": "602864a5",
   "metadata": {},
   "source": [
    "## Loading Primitives with Liberty"
   ]
  },
  {
   "cell_type": "code",
   "execution_count": null,
   "id": "dc543feb",
   "metadata": {
    "vscode": {
     "languageId": "markdown"
    }
   },
   "outputs": [],
   "source": [
    "liberty_files = [\n",
    "    '../benchmarks/liberty/fakeram45_64x32.lib',\n",
    "    '../benchmarks/liberty/fakeram45_1024x32.lib',\n",
    "    '../benchmarks/liberty/NangateOpenCellLibrary_typical.lib']\n",
    "netlist.load_liberty(liberty_files)"
   ]
  },
  {
   "cell_type": "markdown",
   "id": "60a45674",
   "metadata": {},
   "source": [
    "## Load a verilog design\n",
    "You can now load a gate level netlist using the loaded library."
   ]
  },
  {
   "cell_type": "code",
   "execution_count": null,
   "id": "aff45387",
   "metadata": {
    "vscode": {
     "languageId": "markdown"
    }
   },
   "outputs": [],
   "source": [
    "top = netlist.load_verilog(['../benchmarks/verilog/tinyrocket.v'])"
   ]
  },
  {
   "cell_type": "markdown",
   "id": "6127d31a",
   "metadata": {},
   "source": [
    "## Explore the design\n",
    "We can now browse through the design."
   ]
  },
  {
   "cell_type": "code",
   "execution_count": null,
   "id": "2f05d4ac",
   "metadata": {
    "vscode": {
     "languageId": "markdown"
    }
   },
   "outputs": [],
   "source": [
    "print(top)\n",
    "print(f'{top} number of input terms: {top.count_input_terms()}')\n",
    "print(f'{top} number of output terms: {top.count_output_terms()}')"
   ]
  },
  {
   "cell_type": "markdown",
   "id": "4dc05715",
   "metadata": {},
   "source": []
  }
 ],
 "metadata": {
  "kernelspec": {
   "display_name": ".venv",
   "language": "python",
   "name": "python3"
  },
  "language_info": {
   "codemirror_mode": {
    "name": "ipython",
    "version": 3
   },
   "file_extension": ".py",
   "mimetype": "text/x-python",
   "name": "python",
   "nbconvert_exporter": "python",
   "pygments_lexer": "ipython3",
   "version": "3.13.5"
  }
 },
 "nbformat": 4,
 "nbformat_minor": 5
}
