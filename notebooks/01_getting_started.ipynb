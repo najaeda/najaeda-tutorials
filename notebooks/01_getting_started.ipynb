{
 "cells": [
  {
   "cell_type": "markdown",
   "id": "852b83e7",
   "metadata": {},
   "source": [
    "🔗 [Back to Table of Contents](https://github.com/najaeda/najaeda-tutorials#-table-of-contents)\n",
    "# Chapter 1: Getting Started with najaeda\n",
    "\n",
    "Welcome to **najaeda**! This guide will help you quickly install and start using the `najaeda` Python package to accelerate your EDA workflows.\n",
    "\n",
    "📚 **API Documentation:**  \n",
    "You can find the full API reference at [najaeda.readthedocs.io](https://najaeda.readthedocs.io/en/latest/)\n",
    "\n",
    "💬 **Feedback & Contributions:**  \n",
    "If you encounter bugs, have feature requests, or suggestions for improvement, please open an issue in our [GitHub issue tracker](https://github.com/najaeda/naja/issues).\n",
    "\n",
    "⭐ **Support the Project:**  \n",
    "If you find this project useful, consider [starring the repository](https://github.com/najaeda/naja) to show your support and help others discover it.\n",
    "\n",
    "📧 **Contact Us:**  \n",
    "For any questions or direct communication, feel free to reach out at [contact@keplertech.io](mailto:contact@keplertech.io)\n",
    "\n",
    "## Introduction\n",
    "\n",
    "**najaeda** is a powerful yet lightweight framework that empowers both software and hardware developers to efficiently explore, manipulate, and prototype electronic design automation (EDA) workflows.\n",
    "\n",
    "Designed with flexibility and usability in mind, `najaeda` enables you to:\n",
    "\n",
    "### Explore Netlists with Ease\n",
    "\n",
    "- Intuitively navigate complex netlist hierarchies and connectivity.\n",
    "- Inspect your design at various levels of abstraction:\n",
    "  - Bit-level and bus-level granularity.\n",
    "  - Instance-by-instance views or fully flattened representations down to primitives.\n",
    "  - Focused per-instance connectivity or holistic equipotential (net-driven) views.\n",
    "\n",
    "### Perform ECO (Engineering Change Order) Transformations\n",
    "\n",
    "- Apply and manage design modifications smoothly.\n",
    "- Accelerate the integration of late-stage design changes with confidence and control.\n",
    "\n",
    "### Prototype EDA Concepts Rapidly\n",
    "\n",
    "- Leverage an intuitive and expressive Python API.\n",
    "- Experiment with new ideas, workflows, or data models in minutes, not days.\n",
    "\n",
    "### Build Custom EDA Tools\n",
    "\n",
    "- Develop high-performance, task-specific tools without depending on expensive, proprietary EDA suites.\n",
    "- Solve domain-specific challenges with code that’s lean, readable, and maintainable."
   ]
  },
  {
   "cell_type": "markdown",
   "id": "3ee3cefc",
   "metadata": {},
   "source": [
    "To start, let's install `najaeda` by simply using pip:"
   ]
  },
  {
   "cell_type": "code",
   "execution_count": null,
   "id": "90fee49d",
   "metadata": {
    "vscode": {
     "languageId": "shellscript"
    }
   },
   "outputs": [],
   "source": [
    "pip install najaeda"
   ]
  },
  {
   "cell_type": "markdown",
   "id": "f0a2fe2b",
   "metadata": {},
   "source": [
    "## First simple design: a full adder\n",
    "We'll start with a simple example.\n",
    "\n",
    "![FullAdder](https://raw.githubusercontent.com/najaeda/najaeda-tutorials/main/images/fulladder.png)\n",
    "\n",
    "This design contains two levels of hierarchy with top fulladder design instantiating two instances (h1 and h2) of the halfadder design.\n",
    "\n",
    "The design is composed of a few lines of verilog, we'll now create the `fulladder.v` file directly in this notebook.\n"
   ]
  },
  {
   "cell_type": "code",
   "execution_count": null,
   "id": "744a7dd3",
   "metadata": {
    "vscode": {
     "languageId": "shellscript"
    }
   },
   "outputs": [],
   "source": [
    "%%writefile fulladder.v\n",
    "module halfadder(\n",
    "    input a,\n",
    "    input b,\n",
    "    output sum,\n",
    "    output carry\n",
    ");\n",
    "    and carry_and(carry, a, b);\n",
    "    xor sum_xor(sum, a, b);\n",
    "endmodule\n",
    "\n",
    "module fulladder(\n",
    "    input a,\n",
    "    input b,\n",
    "    input cin,\n",
    "    output sum,\n",
    "    output cout\n",
    ");\n",
    "    wire sum1, carry1, carry2;\n",
    "    halfadder ha1(\n",
    "        .a(a),\n",
    "        .b(b),\n",
    "        .sum(sum1),\n",
    "        .carry(carry1)\n",
    "    );\n",
    "    halfadder ha2(\n",
    "        .a(sum1),\n",
    "        .b(cin),\n",
    "        .sum(sum),\n",
    "        .carry(carry2)\n",
    "    );\n",
    "    or cout_or(cout, carry1, carry2);\n",
    "endmodule\n"
   ]
  },
  {
   "cell_type": "markdown",
   "id": "8cfc3c77",
   "metadata": {},
   "source": [
    "## Import najaeda\n",
    "Now we will import najaeda needed package:"
   ]
  },
  {
   "cell_type": "code",
   "execution_count": null,
   "id": "6ccf18e0",
   "metadata": {},
   "outputs": [],
   "source": [
    "from najaeda import netlist"
   ]
  },
  {
   "cell_type": "markdown",
   "id": "60a45674",
   "metadata": {},
   "source": [
    "## Load a verilog design\n",
    "You can now load a gate level netlist using the loaded library."
   ]
  },
  {
   "cell_type": "code",
   "execution_count": null,
   "id": "aff45387",
   "metadata": {},
   "outputs": [],
   "source": [
    "top = netlist.load_verilog('fulladder.v')"
   ]
  },
  {
   "cell_type": "markdown",
   "id": "6127d31a",
   "metadata": {},
   "source": [
    "## Explore the design\n",
    "We can now start browsing some characteristics of the design."
   ]
  },
  {
   "cell_type": "code",
   "execution_count": null,
   "id": "2f05d4ac",
   "metadata": {},
   "outputs": [],
   "source": [
    "print(f'The top is named {top.get_name()}')\n",
    "print(f'{top} number of input terms: {top.count_input_terms()}')\n",
    "print(f'{top} number of output terms: {top.count_output_terms()}')"
   ]
  },
  {
   "cell_type": "markdown",
   "id": "05f2314c",
   "metadata": {},
   "source": [
    "### Explore Instances\n",
    "Let's start by exploring [instances](https://najaeda.readthedocs.io/en/latest/instance.html). In the top, we can browse all instances."
   ]
  },
  {
   "cell_type": "code",
   "execution_count": null,
   "id": "6e474e2e",
   "metadata": {},
   "outputs": [],
   "source": [
    "for inst in top.get_child_instances():\n",
    "    print(f'Instance {inst.get_name()} with model: {inst.get_model_name()}')"
   ]
  },
  {
   "cell_type": "markdown",
   "id": "a930bb6a",
   "metadata": {},
   "source": [
    "It's also possible to retrieve instances by name."
   ]
  },
  {
   "cell_type": "code",
   "execution_count": null,
   "id": "5f66aed4",
   "metadata": {},
   "outputs": [],
   "source": [
    "ha1 = top.get_child_instance('ha1')\n",
    "ha2 = top.get_child_instance('ha2')\n",
    "cout_or = top.get_child_instance('cout_or')\n",
    "print(f'Instance {ha1.get_name()} with model: {ha1.get_model_name()}')\n",
    "print(f'Instance {ha2.get_name()} with model: {ha2.get_model_name()}')\n",
    "print(f'Instance {cout_or.get_name()} with model: {cout_or.get_model_name()}')"
   ]
  },
  {
   "cell_type": "markdown",
   "id": "4e0e8588",
   "metadata": {},
   "source": [
    "We can also simply count the instances."
   ]
  },
  {
   "cell_type": "code",
   "execution_count": null,
   "id": "12fb0893",
   "metadata": {},
   "outputs": [],
   "source": [
    "\n",
    "print(f'The number of instances in the design is: {top.count_child_instances()}')"
   ]
  },
  {
   "cell_type": "markdown",
   "id": "33c7a1c9",
   "metadata": {},
   "source": [
    "We can continue to explore the hierarchy by entering into *ha1* and *ha2*."
   ]
  },
  {
   "cell_type": "code",
   "execution_count": null,
   "id": "648f5768",
   "metadata": {},
   "outputs": [],
   "source": [
    "ha1_carry_and = ha1.get_child_instance('carry_and')\n",
    "ha2_carry_and = ha2.get_child_instance('carry_and')\n",
    "print(f'Instance {ha1_carry_and} with model: {ha1_carry_and.get_model_name()}')\n",
    "print(f'Instance {ha2_carry_and} with model: {ha2_carry_and.get_model_name()}')"
   ]
  },
  {
   "cell_type": "markdown",
   "id": "46adac38",
   "metadata": {},
   "source": [
    "As expected, both instances share the same model: a and gate.\n",
    "\n",
    "We could have retrieved the same two instances directly from the top."
   ]
  },
  {
   "cell_type": "code",
   "execution_count": null,
   "id": "52d05602",
   "metadata": {},
   "outputs": [],
   "source": [
    "print(f\"{top.get_child_instance(['ha1', 'carry_and'])}\")\n",
    "print(f\"{top.get_child_instance(['ha2', 'carry_and'])}\")\n",
    "#Let's check that we can retrieve the same instances from the top design.\n",
    "print(top.get_child_instance(['ha1', 'carry_and']) == ha1_carry_and)\n",
    "print(top.get_child_instance(['ha2', 'carry_and']) == ha2_carry_and)"
   ]
  },
  {
   "cell_type": "markdown",
   "id": "98234608",
   "metadata": {},
   "source": [
    "We can now focus on the third instance which is a primitive instance, here a generic 'and' gate."
   ]
  },
  {
   "cell_type": "code",
   "execution_count": null,
   "id": "b868aec6",
   "metadata": {},
   "outputs": [],
   "source": [
    "cout_or = top.get_child_instance('cout_or')\n",
    "print(f'Instance {cout_or.get_name()} with model: {cout_or.get_model_name()}')"
   ]
  },
  {
   "cell_type": "markdown",
   "id": "a3ab3edd",
   "metadata": {},
   "source": [
    "The model name in this example is `and_2`. \n",
    "\n",
    "Generic multi-output gates are automatically handled by `najaeda`. The naming convention follows the pattern: the base gate type (e.g., `and`, `or`, etc.) followed by the number of outputs."
   ]
  },
  {
   "cell_type": "markdown",
   "id": "161d6f75",
   "metadata": {},
   "source": [
    "### Explore a top Terminal\n",
    "Let's start exploring a specific object. The top *a* terminal."
   ]
  },
  {
   "cell_type": "code",
   "execution_count": null,
   "id": "5d27f673",
   "metadata": {},
   "outputs": [],
   "source": [
    "a = top.get_term('a')\n",
    "print(a)"
   ]
  },
  {
   "cell_type": "markdown",
   "id": "2529fad9",
   "metadata": {},
   "source": [
    "### Explore a connected net\n"
   ]
  },
  {
   "cell_type": "code",
   "execution_count": null,
   "id": "096bd94c",
   "metadata": {},
   "outputs": [],
   "source": [
    "aNet = a.get_lower_net()\n",
    "print(f\"Term a net is {aNet}\")\n",
    "print(\"Net a connected elements are:\")\n",
    "for term in aNet.get_terms():\n",
    "    print(term)"
   ]
  },
  {
   "cell_type": "markdown",
   "id": "fd7445db",
   "metadata": {},
   "source": [
    "Net *a* connects two elements within the top-level *fulladder* design: the top-level input port *a*, and the *a* input of the internal instance *ha1*.\n",
    "\n",
    "If you want to explore **flat connectivity**—that is, trace signal paths across module boundaries from top-level ports all the way down to leaf-level primitives—you can use the [`Equipotential`](https://najaeda.readthedocs.io/en/latest/equipotential.html) object.\n",
    "\n",
    "It enables you to analyze complete net-driven connectivity, unconstrained by the design hierarchy."
   ]
  },
  {
   "cell_type": "code",
   "execution_count": null,
   "id": "d6d8065d",
   "metadata": {},
   "outputs": [],
   "source": [
    "a_equipotential = a.get_equipotential()\n",
    "#print the equipotential connected elements\n",
    "print(\"Equipotential connected elements are:\")\n",
    "for term in a_equipotential.get_top_terms():\n",
    "    print(term)\n",
    "for iterm in a_equipotential.get_inst_terms():\n",
    "    print(iterm)"
   ]
  },
  {
   "cell_type": "markdown",
   "id": "b4de4225",
   "metadata": {},
   "source": [
    "## Dump the Design\n",
    "`najaeda` includes a built-in Verilog dumper that we can now use to export the design back to a Verilog file. \n",
    "\n",
    "Since we haven't made any modifications to the design at this point, the output should be nearly identical to the original source."
   ]
  },
  {
   "cell_type": "code",
   "execution_count": null,
   "id": "3419c3db",
   "metadata": {},
   "outputs": [],
   "source": [
    "top.dump_verilog('fulladder_naja.v')"
   ]
  },
  {
   "cell_type": "code",
   "execution_count": null,
   "id": "15c7c937",
   "metadata": {
    "vscode": {
     "languageId": "shellscript"
    }
   },
   "outputs": [],
   "source": [
    "more fulladder_naja.v"
   ]
  },
  {
   "cell_type": "markdown",
   "id": "ed8b6d8a",
   "metadata": {},
   "source": [
    "As we can see, the generated output closely resembles the original file. This is intentional—**najaeda emphasizes high fidelity**, ensuring that data remains consistent and stable throughout its processing pipeline.\n",
    "\n",
    "In later chapters, we'll explore how this data integrity is preserved even after making netlist modifications.\n",
    "\n",
    "✅ This concludes **Chapter 1** of our najaeda tutorial. In the next chapter, we’ll work with a more substantial design that includes **standard cells defined in the Liberty format**.\n",
    "\n",
    "➡️ [**Next Chapter → Design with Primitives using Liberty**](https://colab.research.google.com/github/najaeda/najaeda-tutorials/blob/main/notebooks/02_liberty_primitives_design.ipynb)"
   ]
  }
 ],
 "metadata": {
  "kernelspec": {
   "display_name": "Python 3",
   "language": "python",
   "name": "python3"
  },
  "language_info": {
   "codemirror_mode": {
    "name": "ipython",
    "version": 3
   },
   "file_extension": ".py",
   "mimetype": "text/x-python",
   "name": "python",
   "nbconvert_exporter": "python",
   "pygments_lexer": "ipython3",
   "version": "3.12.11"
  }
 },
 "nbformat": 4,
 "nbformat_minor": 5
}
