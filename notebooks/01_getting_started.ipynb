{
 "cells": [
  {
   "cell_type": "markdown",
   "id": "852b83e7",
   "metadata": {},
   "source": [
    "🔗 [Back to Table of Contents](https://github.com/najaeda/najaeda-tutorials#-table-of-contents)\n",
    "# Chapter 1: Getting Started with najaeda\n",
    "\n",
    "Welcome to **najaeda**! This guide will help you quickly install and start using the `najaeda` Python package to accelerate your EDA workflows.\n",
    "\n",
    "📚 **API Documentation:**  \n",
    "You can find the full API reference at [najaeda.readthedocs.io](https://najaeda.readthedocs.io/en/latest/)\n",
    "\n",
    "💬 **Feedback & Contributions:**  \n",
    "If you encounter bugs, have feature requests, or suggestions for improvement, please open an issue in our [GitHub issue tracker](https://github.com/najaeda/naja/issues).\n",
    "\n",
    "⭐ **Support the Project:**  \n",
    "If you find this project useful, consider [starring the repository](https://github.com/najaeda/naja) to show your support and help others discover it.\n",
    "\n",
    "📧 **Contact Us:**  \n",
    "For any questions or direct communication, feel free to reach out at [contact@keplertech.io](mailto:contact@keplertech.io)\n",
    "\n",
    "## Introduction\n",
    "\n",
    "**najaeda** is a powerful yet lightweight framework that empowers both software and hardware developers to efficiently explore, manipulate, and prototype electronic design automation (EDA) workflows.\n",
    "\n",
    "Designed with flexibility and usability in mind, `najaeda` enables you to:\n",
    "\n",
    "### Explore Netlists with Ease\n",
    "\n",
    "- Intuitively navigate complex netlist hierarchies and connectivity.\n",
    "- Inspect your design at various levels of abstraction:\n",
    "  - Bit-level and bus-level granularity.\n",
    "  - Instance-by-instance views or fully flattened representations down to primitives.\n",
    "  - Focused per-instance connectivity or holistic equipotential (net-driven) views.\n",
    "\n",
    "### Perform ECO (Engineering Change Order) Transformations\n",
    "\n",
    "- Apply and manage design modifications smoothly.\n",
    "- Accelerate the integration of late-stage design changes with confidence and control.\n",
    "\n",
    "### Prototype EDA Concepts Rapidly\n",
    "\n",
    "- Leverage an intuitive and expressive Python API.\n",
    "- Experiment with new ideas, workflows, or data models in minutes, not days.\n",
    "\n",
    "### Build Custom EDA Tools\n",
    "\n",
    "- Develop high-performance, task-specific tools without depending on expensive, proprietary EDA suites.\n",
    "- Solve domain-specific challenges with code that’s lean, readable, and maintainable.\n",
    "\n",
    "## Installation\n",
    "\n",
    "First, let's get the needed files for this tutorial repository to access the tutorials files."
   ]
  },
  {
   "cell_type": "code",
   "execution_count": 10,
   "id": "d365a799",
   "metadata": {
    "vscode": {
     "languageId": "markdown"
    }
   },
   "outputs": [
    {
     "name": "stdout",
     "output_type": "stream",
     "text": [
      "fatal : le chemin de destination 'najaeda-tutorials' existe déjà et n'est pas un répertoire vide.\n"
     ]
    }
   ],
   "source": [
    "!git clone https://github.com/najaeda/najaeda-tutorials.git"
   ]
  },
  {
   "cell_type": "markdown",
   "id": "3ee3cefc",
   "metadata": {},
   "source": [
    "To install `najaeda`, simply use pip:"
   ]
  },
  {
   "cell_type": "code",
   "execution_count": 11,
   "id": "90fee49d",
   "metadata": {
    "vscode": {
     "languageId": "markdown"
    }
   },
   "outputs": [
    {
     "name": "stdout",
     "output_type": "stream",
     "text": [
      "zsh:1: no such file or directory: /Users/xtof/WORK/najaeda-tutorials/.venv/bin/python\n",
      "Note: you may need to restart the kernel to use updated packages.\n"
     ]
    }
   ],
   "source": [
    "pip install najaeda"
   ]
  },
  {
   "cell_type": "markdown",
   "id": "8cfc3c77",
   "metadata": {},
   "source": [
    "## Import najaeda\n",
    "Now we will import najaeda needed package:"
   ]
  },
  {
   "cell_type": "code",
   "execution_count": null,
   "id": "6ccf18e0",
   "metadata": {},
   "outputs": [],
   "source": [
    "from najaeda import netlist"
   ]
  },
  {
   "cell_type": "markdown",
   "id": "60a45674",
   "metadata": {},
   "source": [
    "## Load a verilog design\n",
    "You can now load a gate level netlist using the loaded library."
   ]
  },
  {
   "cell_type": "code",
   "execution_count": null,
   "id": "aff45387",
   "metadata": {},
   "outputs": [],
   "source": [
    "top = netlist.load_verilog(['najaeda-tutorials/benchmarks/verilog/adder/fulladder.v'])"
   ]
  },
  {
   "cell_type": "markdown",
   "id": "6127d31a",
   "metadata": {},
   "source": [
    "## Explore the design\n",
    "We can now start browsing some characteristics of the design."
   ]
  },
  {
   "cell_type": "code",
   "execution_count": null,
   "id": "2f05d4ac",
   "metadata": {},
   "outputs": [],
   "source": [
    "print(f'The top is named {top.get_name()}')\n",
    "print(f'{top} number of input terms: {top.count_input_terms()}')\n",
    "print(f'{top} number of output terms: {top.count_output_terms()}')"
   ]
  },
  {
   "cell_type": "markdown",
   "id": "05f2314c",
   "metadata": {},
   "source": [
    "### Explore a top Terminal\n",
    "Let's start exploring a specific object. The top 'A' terminal."
   ]
  },
  {
   "cell_type": "code",
   "execution_count": null,
   "id": "5d27f673",
   "metadata": {},
   "outputs": [],
   "source": [
    "a = top.get_term('a')\n",
    "print(a)"
   ]
  },
  {
   "cell_type": "markdown",
   "id": "2529fad9",
   "metadata": {},
   "source": [
    "### Explore a connected net\n"
   ]
  },
  {
   "cell_type": "code",
   "execution_count": null,
   "id": "096bd94c",
   "metadata": {},
   "outputs": [],
   "source": [
    "aNet = a.get_net()\n",
    "print(aNet)\n",
    "for term in aNet.get_terms:\n",
    "    print(term)"
   ]
  }
 ],
 "metadata": {
  "kernelspec": {
   "display_name": ".venv",
   "language": "python",
   "name": "python3"
  },
  "language_info": {
   "codemirror_mode": {
    "name": "ipython",
    "version": 3
   },
   "file_extension": ".py",
   "mimetype": "text/x-python",
   "name": "python",
   "nbconvert_exporter": "python",
   "pygments_lexer": "ipython3",
   "version": "3.13.5"
  }
 },
 "nbformat": 4,
 "nbformat_minor": 5
}
