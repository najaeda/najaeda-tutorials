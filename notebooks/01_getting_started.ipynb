{
 "cells": [
  {
   "cell_type": "markdown",
   "id": "852b83e7",
   "metadata": {},
   "source": [
    "# Getting Started with najaeda\n",
    "\n",
    "Welcome to **najaeda**! This guide will help you quickly install and start using the `najaeda` Python package.\n",
    "\n",
    "## Installation\n",
    "\n"
   ]
  },
  {
   "cell_type": "markdown",
   "id": "82ee3665",
   "metadata": {},
   "source": [
    "First, let's clone najaeda-tutorials repository to access the tutorials files."
   ]
  },
  {
   "cell_type": "code",
   "execution_count": null,
   "id": "d365a799",
   "metadata": {
    "vscode": {
     "languageId": "markdown"
    }
   },
   "outputs": [],
   "source": [
    "!git clone https://github.com/najaeda/najaeda-tutorials.git"
   ]
  },
  {
   "cell_type": "markdown",
   "id": "3ee3cefc",
   "metadata": {},
   "source": [
    "To install `najaeda`, simply use pip:"
   ]
  },
  {
   "cell_type": "code",
   "execution_count": null,
   "id": "90fee49d",
   "metadata": {
    "vscode": {
     "languageId": "markdown"
    }
   },
   "outputs": [],
   "source": [
    "pip install najaeda"
   ]
  },
  {
   "cell_type": "markdown",
   "id": "8cfc3c77",
   "metadata": {},
   "source": [
    "## Import najaeda\n",
    "Now we will import najaeda needed package:"
   ]
  },
  {
   "cell_type": "code",
   "execution_count": 8,
   "id": "6ccf18e0",
   "metadata": {
    "vscode": {
     "languageId": "markdown"
    }
   },
   "outputs": [],
   "source": [
    "from najaeda import netlist"
   ]
  },
  {
   "cell_type": "markdown",
   "id": "86cc3eb0",
   "metadata": {},
   "source": [
    "## Load Liberty file\n",
    "Let's load a liberty file for loading primitives. "
   ]
  },
  {
   "cell_type": "code",
   "execution_count": 9,
   "id": "13041d84",
   "metadata": {
    "vscode": {
     "languageId": "markdown"
    }
   },
   "outputs": [],
   "source": [
    "liberty_files = [\n",
    "    '../benchmarks/liberty/fakeram45_64x32.lib',\n",
    "    '../benchmarks/liberty/fakeram45_1024x32.lib',\n",
    "    '../benchmarks/liberty/NangateOpenCellLibrary_typical.lib']\n",
    "netlist.load_liberty(liberty_files)"
   ]
  },
  {
   "cell_type": "markdown",
   "id": "cd07e752",
   "metadata": {},
   "source": [
    "## Load a verilog design\n",
    "You can now load a gate level netlist using the loaded library."
   ]
  },
  {
   "cell_type": "code",
   "execution_count": 13,
   "id": "526e4b7b",
   "metadata": {
    "vscode": {
     "languageId": "markdown"
    }
   },
   "outputs": [],
   "source": [
    "top = netlist.load_verilog(['../benchmarks/verilog/tinyrocket.v'])"
   ]
  },
  {
   "cell_type": "markdown",
   "id": "56baf523",
   "metadata": {},
   "source": [
    "## Explore the design\n",
    "We can now browse through the design."
   ]
  },
  {
   "cell_type": "code",
   "execution_count": null,
   "id": "a04729b0",
   "metadata": {
    "vscode": {
     "languageId": "markdown"
    }
   },
   "outputs": [],
   "source": [
    "print(top)\n",
    "print(f'{top.get_name()}' number of input terms: {top.count_input_terms()})\n",
    "print(f'{top.get_name()}' number of output terms: {top.count_output_terms()})"
   ]
  }
 ],
 "metadata": {
  "kernelspec": {
   "display_name": ".venv",
   "language": "python",
   "name": "python3"
  },
  "language_info": {
   "codemirror_mode": {
    "name": "ipython",
    "version": 3
   },
   "file_extension": ".py",
   "mimetype": "text/x-python",
   "name": "python",
   "nbconvert_exporter": "python",
   "pygments_lexer": "ipython3",
   "version": "3.13.5"
  }
 },
 "nbformat": 4,
 "nbformat_minor": 5
}
